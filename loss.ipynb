{
 "cells": [
  {
   "cell_type": "code",
   "execution_count": 1,
   "metadata": {},
   "outputs": [],
   "source": [
    "import numpy as np\n",
    "import torch.nn as nn"
   ]
  },
  {
   "cell_type": "code",
   "execution_count": null,
   "metadata": {},
   "outputs": [],
   "source": [
    "class yolo_loss(nn.Module):\n",
    "    def __init__(self):\n",
    "        super(yolo_loss, self).__init__()\n",
    "\n",
    "    def forward(self, \n",
    "                x_pred, x_actual, y_pred, y_actual,\n",
    "                w_pred, w_actual, h_pred, h_actual,\n",
    "                is_obj, no_obj, class_pred, class_actual):\n",
    "        obj_identity = None\n",
    "        no_obj_identity = None\n",
    "\n",
    "        bbox_l2_norm = np.power((x_pred - x_actual), 2) + np.power((y_pred - y_actual), 2)\n",
    "        bbox_coord_loss = np.sum(np.sum(np.multiply(obj_identity, bbox_l2_norm)))\n",
    "\n",
    "        pass"
   ]
  }
 ],
 "metadata": {
  "interpreter": {
   "hash": "5c07979281c39b40b76a816f18a9a1b4cb65f739279c2f8cf445d62be12adec4"
  },
  "kernelspec": {
   "display_name": "Python 3.9.4 64-bit",
   "language": "python",
   "name": "python3"
  },
  "language_info": {
   "codemirror_mode": {
    "name": "ipython",
    "version": 3
   },
   "file_extension": ".py",
   "mimetype": "text/x-python",
   "name": "python",
   "nbconvert_exporter": "python",
   "pygments_lexer": "ipython3",
   "version": "3.9.4"
  },
  "orig_nbformat": 4
 },
 "nbformat": 4,
 "nbformat_minor": 2
}
