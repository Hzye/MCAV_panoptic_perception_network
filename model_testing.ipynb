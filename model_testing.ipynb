{
 "cells": [
  {
   "cell_type": "code",
   "execution_count": 1,
   "metadata": {},
   "outputs": [],
   "source": [
    "from __future__ import division\n",
    "\n",
    "import torch\n",
    "import torch.nn as nn\n",
    "import torch.nn.functional as F\n",
    "from torch.autograd import Variable\n",
    "import numpy as np\n",
    "\n",
    "from model import *\n",
    "from utils import *"
   ]
  },
  {
   "cell_type": "code",
   "execution_count": null,
   "metadata": {},
   "outputs": [],
   "source": [
    "blocks = parse_cfg('./cfg/model.cfg')\n",
    "create_modules(blocks)[1]"
   ]
  },
  {
   "cell_type": "markdown",
   "metadata": {},
   "source": [
    "## Define Network"
   ]
  },
  {
   "cell_type": "markdown",
   "metadata": {},
   "source": [
    "## Test Foward Pass"
   ]
  },
  {
   "cell_type": "code",
   "execution_count": 44,
   "metadata": {},
   "outputs": [
    {
     "data": {
      "text/plain": [
       "tensor([[[2.2937e+01, 1.5843e+01, 9.5361e+01,  ..., 4.2360e-01,\n",
       "          4.2999e-01, 4.6617e-01],\n",
       "         [2.0630e+01, 2.0300e+01, 3.1507e+02,  ..., 4.3634e-01,\n",
       "          4.5117e-01, 5.2884e-01],\n",
       "         [2.2486e+01, 2.4395e+01, 3.7954e+02,  ..., 5.4638e-01,\n",
       "          5.4957e-01, 5.7353e-01],\n",
       "         ...,\n",
       "         [5.6665e+02, 5.6660e+02, 8.9677e+00,  ..., 4.8677e-01,\n",
       "          3.8770e-01, 4.3729e-01],\n",
       "         [5.6562e+02, 5.6691e+02, 2.2953e+01,  ..., 5.1666e-01,\n",
       "          5.3433e-01, 5.6511e-01],\n",
       "         [5.6569e+02, 5.6543e+02, 4.0473e+01,  ..., 5.2003e-01,\n",
       "          4.6440e-01, 6.1079e-01]]])"
      ]
     },
     "execution_count": 44,
     "metadata": {},
     "output_type": "execute_result"
    }
   ],
   "source": [
    "net = Net(\"cfg/model.cfg\")\n",
    "input = test_forward_pass()\n",
    "pred = net(input, torch.cuda.is_available())\n",
    "pred"
   ]
  },
  {
   "cell_type": "code",
   "execution_count": 43,
   "metadata": {},
   "outputs": [
    {
     "data": {
      "text/plain": [
       "torch.Size([1, 10647, 85])"
      ]
     },
     "execution_count": 43,
     "metadata": {},
     "output_type": "execute_result"
    }
   ],
   "source": [
    "pred.shape"
   ]
  },
  {
   "cell_type": "markdown",
   "metadata": {},
   "source": [
    "size: batch_size x n_bboxes x (4 bbox attrs + 1 object score + 80 class scores)"
   ]
  },
  {
   "cell_type": "code",
   "execution_count": null,
   "metadata": {},
   "outputs": [],
   "source": []
  }
 ],
 "metadata": {
  "interpreter": {
   "hash": "5c07979281c39b40b76a816f18a9a1b4cb65f739279c2f8cf445d62be12adec4"
  },
  "kernelspec": {
   "display_name": "Python 3.9.4 64-bit",
   "language": "python",
   "name": "python3"
  },
  "language_info": {
   "codemirror_mode": {
    "name": "ipython",
    "version": 3
   },
   "file_extension": ".py",
   "mimetype": "text/x-python",
   "name": "python",
   "nbconvert_exporter": "python",
   "pygments_lexer": "ipython3",
   "version": "3.9.4"
  },
  "orig_nbformat": 4
 },
 "nbformat": 4,
 "nbformat_minor": 2
}
