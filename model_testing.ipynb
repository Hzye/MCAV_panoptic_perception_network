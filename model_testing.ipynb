{
 "cells": [
  {
   "cell_type": "code",
   "execution_count": 1,
   "metadata": {},
   "outputs": [],
   "source": [
    "from __future__ import division\n",
    "\n",
    "import torch\n",
    "import torch.nn as nn\n",
    "import torch.nn.functional as F\n",
    "from torch.autograd import Variable\n",
    "import numpy as np\n",
    "\n",
    "from model import *\n",
    "from utils import *"
   ]
  },
  {
   "cell_type": "code",
   "execution_count": 2,
   "metadata": {},
   "outputs": [],
   "source": [
    "blocks = parse_cfg('./cfg/model.cfg')\n",
    "net_info, module_list = create_modules(blocks)"
   ]
  },
  {
   "cell_type": "code",
   "execution_count": 9,
   "metadata": {},
   "outputs": [
    {
     "data": {
      "text/plain": [
       "Sequential(\n",
       "  (conv_0): Conv2d(3, 32, kernel_size=(3, 3), stride=(1, 1), padding=(1, 1), bias=False)\n",
       "  (batch_norm_0): BatchNorm2d(32, eps=1e-05, momentum=0.1, affine=True, track_running_stats=True)\n",
       "  (leaky_0): LeakyReLU(negative_slope=0.1, inplace=True)\n",
       ")"
      ]
     },
     "execution_count": 9,
     "metadata": {},
     "output_type": "execute_result"
    }
   ],
   "source": [
    "module = module_list[0]\n",
    "module"
   ]
  },
  {
   "cell_type": "markdown",
   "metadata": {},
   "source": [
    "## Weights of first conv block before loading"
   ]
  },
  {
   "cell_type": "code",
   "execution_count": 10,
   "metadata": {},
   "outputs": [
    {
     "data": {
      "text/plain": [
       "tensor([[[ 0.1242,  0.1383, -0.1402],\n",
       "         [ 0.1687, -0.1114, -0.1365],\n",
       "         [-0.1868, -0.0517, -0.1537]],\n",
       "\n",
       "        [[ 0.0248, -0.0960, -0.0430],\n",
       "         [-0.1645,  0.0467,  0.0498],\n",
       "         [ 0.0023, -0.1888,  0.0903]],\n",
       "\n",
       "        [[ 0.0002, -0.0594,  0.0481],\n",
       "         [-0.1507, -0.1015,  0.0061],\n",
       "         [-0.0938, -0.0025, -0.1516]]], grad_fn=<SelectBackward0>)"
      ]
     },
     "execution_count": 10,
     "metadata": {},
     "output_type": "execute_result"
    }
   ],
   "source": [
    "module[0].weight[0]"
   ]
  },
  {
   "cell_type": "markdown",
   "metadata": {},
   "source": [
    "## Weights of first conv block after loading"
   ]
  },
  {
   "cell_type": "code",
   "execution_count": 4,
   "metadata": {},
   "outputs": [],
   "source": [
    "model = Net(\"cfg/model.cfg\")\n",
    "model.load_weights(\"weights/yolov3.weights\")"
   ]
  },
  {
   "cell_type": "code",
   "execution_count": 12,
   "metadata": {},
   "outputs": [
    {
     "data": {
      "text/plain": [
       "tensor([[[-0.0740,  0.1793, -0.0300],\n",
       "         [ 0.0912, -0.0169,  0.0980],\n",
       "         [ 0.0027, -0.7275,  0.0275]],\n",
       "\n",
       "        [[-0.0436, -0.1081, -0.0277],\n",
       "         [ 0.0375, -0.1492,  0.0688],\n",
       "         [ 0.0402, -0.4120,  0.0622]],\n",
       "\n",
       "        [[ 0.0263,  0.1104, -0.0717],\n",
       "         [ 0.0608,  0.0507,  0.0366],\n",
       "         [-0.0071, -0.4448,  0.0145]]], grad_fn=<SelectBackward0>)"
      ]
     },
     "execution_count": 12,
     "metadata": {},
     "output_type": "execute_result"
    }
   ],
   "source": [
    "model.module_list[0][0].weight[0]"
   ]
  },
  {
   "cell_type": "markdown",
   "metadata": {},
   "source": [
    "## Test Foward Pass"
   ]
  },
  {
   "cell_type": "code",
   "execution_count": 44,
   "metadata": {},
   "outputs": [
    {
     "data": {
      "text/plain": [
       "tensor([[[2.2937e+01, 1.5843e+01, 9.5361e+01,  ..., 4.2360e-01,\n",
       "          4.2999e-01, 4.6617e-01],\n",
       "         [2.0630e+01, 2.0300e+01, 3.1507e+02,  ..., 4.3634e-01,\n",
       "          4.5117e-01, 5.2884e-01],\n",
       "         [2.2486e+01, 2.4395e+01, 3.7954e+02,  ..., 5.4638e-01,\n",
       "          5.4957e-01, 5.7353e-01],\n",
       "         ...,\n",
       "         [5.6665e+02, 5.6660e+02, 8.9677e+00,  ..., 4.8677e-01,\n",
       "          3.8770e-01, 4.3729e-01],\n",
       "         [5.6562e+02, 5.6691e+02, 2.2953e+01,  ..., 5.1666e-01,\n",
       "          5.3433e-01, 5.6511e-01],\n",
       "         [5.6569e+02, 5.6543e+02, 4.0473e+01,  ..., 5.2003e-01,\n",
       "          4.6440e-01, 6.1079e-01]]])"
      ]
     },
     "execution_count": 44,
     "metadata": {},
     "output_type": "execute_result"
    }
   ],
   "source": [
    "net = Net(\"cfg/model.cfg\")\n",
    "input = test_forward_pass()\n",
    "pred = net(input, torch.cuda.is_available())\n",
    "pred"
   ]
  },
  {
   "cell_type": "code",
   "execution_count": 43,
   "metadata": {},
   "outputs": [
    {
     "data": {
      "text/plain": [
       "torch.Size([1, 10647, 85])"
      ]
     },
     "execution_count": 43,
     "metadata": {},
     "output_type": "execute_result"
    }
   ],
   "source": [
    "pred.shape"
   ]
  },
  {
   "cell_type": "markdown",
   "metadata": {},
   "source": [
    "size: batch_size x n_bboxes x (4 bbox attrs + 1 object score + 80 class scores)"
   ]
  },
  {
   "cell_type": "code",
   "execution_count": null,
   "metadata": {},
   "outputs": [],
   "source": []
  }
 ],
 "metadata": {
  "interpreter": {
   "hash": "5c07979281c39b40b76a816f18a9a1b4cb65f739279c2f8cf445d62be12adec4"
  },
  "kernelspec": {
   "display_name": "Python 3.9.4 64-bit",
   "language": "python",
   "name": "python3"
  },
  "language_info": {
   "codemirror_mode": {
    "name": "ipython",
    "version": 3
   },
   "file_extension": ".py",
   "mimetype": "text/x-python",
   "name": "python",
   "nbconvert_exporter": "python",
   "pygments_lexer": "ipython3",
   "version": "3.9.5"
  },
  "orig_nbformat": 4
 },
 "nbformat": 4,
 "nbformat_minor": 2
}
