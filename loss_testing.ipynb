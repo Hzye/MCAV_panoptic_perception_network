{
 "cells": [
  {
   "cell_type": "code",
   "execution_count": 3,
   "metadata": {},
   "outputs": [],
   "source": [
    "import numpy as np\n",
    "import torch.nn as nn\n",
    "import torch\n",
    "from utils import bbox_iou"
   ]
  },
  {
   "cell_type": "code",
   "execution_count": null,
   "metadata": {},
   "outputs": [],
   "source": [
    "class Yolo_Loss(nn.Module):\n",
    "    def __init__(self):\n",
    "        super().__init__()\n",
    "        # losses and functions\n",
    "        self.bcwell = nn.BCEWithLogitsLoss()\n",
    "        self.mse = nn.MSELoss()\n",
    "        self.cross_entropy = nn.CrossEntropyLoss()\n",
    "        self.sigmoid = nn.Sigmoid()\n",
    "\n",
    "        # lambda constants\n",
    "        self.lambda_class = 1\n",
    "        self.lambda_noobj = 10\n",
    "        self.lambda_box = 10\n",
    "        self.lambda_obj = 1\n",
    "\n",
    "\n",
    "    def forward(self, prediction, target, anchors):\n",
    "        # check objectness for identity function\n",
    "        obj = target[None] == 1 # I^obj_ij\n",
    "        noobj = target[None] == 0 # I^noobj_ij\n",
    "\n",
    "        ## box coordinate loss\n",
    "        prediction[None] = self.sigmoid(prediction[None]) # currently x,y coords\n",
    "        target[None] = torch.log((1e-16 + target[None]/anchors)) # width and height coords\n",
    "        bbox_coord_loss = self.mse(prediction[None][obj], target[None][obj])\n",
    "\n",
    "        ## object loss\n",
    "        anchors = anchors.reshape(1,3,1,1,2)\n",
    "        box_preds = torch.cat([self.sigmoid(prediction[None]), torch.exp(prediction[None])*anchors], dim=-1)\n",
    "        result = bbox_iou(box_preds[obj], target[None][obj]).detach()\n",
    "        obj_loss = self.mse(self.sigmoid(prediction[None][obj]), result*target[None][obj])\n",
    "\n",
    "        ## no object loss\n",
    "        noobj_loss = self.bcwell((prediction[None][noobj]), (target[None][noobj]))\n",
    "\n",
    "        ## class loss\n",
    "        class_loss = self.cross_entropy((prediction[None][obj]), (target[None][obj].long()))\n",
    "\n",
    "        loss = self.lambda_box*bbox_coord_loss + self.lambda_obj*obj_loss + self.lambda_noobj*noobj_loss + self.lambda_class*class_loss\n",
    "\n",
    "        return loss"
   ]
  },
  {
   "cell_type": "code",
   "execution_count": null,
   "metadata": {},
   "outputs": [],
   "source": []
  }
 ],
 "metadata": {
  "interpreter": {
   "hash": "5c07979281c39b40b76a816f18a9a1b4cb65f739279c2f8cf445d62be12adec4"
  },
  "kernelspec": {
   "display_name": "Python 3.9.4 64-bit",
   "language": "python",
   "name": "python3"
  },
  "language_info": {
   "codemirror_mode": {
    "name": "ipython",
    "version": 3
   },
   "file_extension": ".py",
   "mimetype": "text/x-python",
   "name": "python",
   "nbconvert_exporter": "python",
   "pygments_lexer": "ipython3",
   "version": "3.9.5"
  },
  "orig_nbformat": 4
 },
 "nbformat": 4,
 "nbformat_minor": 2
}
